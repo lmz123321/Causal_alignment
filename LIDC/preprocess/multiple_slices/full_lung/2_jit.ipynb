{
 "cells": [
  {
   "cell_type": "raw",
   "id": "5f0ea741",
   "metadata": {},
   "source": [
    "same function as jit.py, only we include background w/ lung segmask, in stead of rand. padding and jitting"
   ]
  },
  {
   "cell_type": "code",
   "execution_count": 1,
   "id": "2cb716b8",
   "metadata": {},
   "outputs": [],
   "source": [
    "import os\n",
    "import ast\n",
    "import numpy as np\n",
    "import pandas as pd\n",
    "from PIL import Image, ImageDraw\n",
    "import imageio\n",
    "from tqdm import tqdm\n",
    "import matplotlib.pyplot as plt\n",
    "\n",
    "import sys\n",
    "sys.path.append('../../')\n",
    "from jsonio import load\n",
    "sys.path.append('../')\n",
    "from jit import _det_overlap,_iou"
   ]
  },
  {
   "cell_type": "code",
   "execution_count": 2,
   "id": "e2a87cad",
   "metadata": {},
   "outputs": [],
   "source": [
    "base = '/data/liumingzhou/CounterAlign_output/preprocess/multiple_slices'\n",
    "splitfile = '../../single_slice/split_mindiam7.json'\n",
    "todel = ['LIDC-IDRI-0634-0-0', 'LIDC-IDRI-0545-1-6'] # these two slices have no lung area"
   ]
  },
  {
   "cell_type": "code",
   "execution_count": 3,
   "id": "534ddacd",
   "metadata": {},
   "outputs": [],
   "source": [
    "annofile = os.path.join(base, 'raw.csv')\n",
    "npypath = os.path.join(base, 'raw')\n",
    "annos = pd.read_csv(annofile)\n",
    "split = load(splitfile)"
   ]
  },
  {
   "cell_type": "code",
   "execution_count": 4,
   "id": "6c490330",
   "metadata": {},
   "outputs": [],
   "source": [
    "savebase = os.path.join(base, 'mindiam{}_fulllung'.format(split['mindiam']), '{}')\n",
    "saveimgbase = os.path.join(base, 'visulization_mindiam{}_fulllung'.format(split['mindiam']), '{}')\n",
    "for subset in ['train', 'val', 'test']:\n",
    "    os.makedirs(savebase.format(subset), exist_ok=True)\n",
    "    os.makedirs(saveimgbase.format(subset), exist_ok=True)"
   ]
  },
  {
   "cell_type": "markdown",
   "id": "e4f0cee3",
   "metadata": {},
   "source": [
    "#### process"
   ]
  },
  {
   "cell_type": "code",
   "execution_count": 5,
   "id": "261a6423",
   "metadata": {},
   "outputs": [],
   "source": [
    "def str2box(string,reversion=False):\n",
    "    box = string[1:-1].split(',')\n",
    "    if reversion:\n",
    "        return [int(box[1]), int(box[0]), int(box[3]), int(box[2])]\n",
    "    else:\n",
    "        return [int(b) for b in box]"
   ]
  },
  {
   "cell_type": "code",
   "execution_count": 6,
   "id": "90cf1727",
   "metadata": {},
   "outputs": [
    {
     "name": "stderr",
     "output_type": "stream",
     "text": [
      "100%|██████████████████████████████████████████████████████████████████████████████████████████████████████████████████████████████████████████████████████████████████████████████████████████| 23848/23848 [00:36<00:00, 662.08it/s]\n"
     ]
    }
   ],
   "source": [
    "outputs = {'filename': [], 'malignancy': [], 'box': []}\n",
    "for ind,row in tqdm(annos.iterrows(),total=annos.shape[0]):\n",
    "    pid = '-'.join(row['filename'].split('-')[:-1])\n",
    "    subset = 'none'\n",
    "    for _subset in ['train', 'val', 'test']:\n",
    "        if pid in split[_subset]:\n",
    "            subset = _subset\n",
    "    if subset=='none' or row['filename'] in todel:\n",
    "        continue # not in train/val/test\n",
    "\n",
    "    nid = '-'.join(row['filename'].replace('LIDC-IDRI-', '').split('-')[:-1])\n",
    "    sliceind = int(row['slice'])\n",
    "    malign = row['malignancy']\n",
    "    xmin,ymin,xmax,ymax = str2box(row['box'],reversion=True)\n",
    "    nodwidth = xmax - xmin; nodheight = ymax - ymin\n",
    "    nodbox = [xmin, ymin, xmax, ymax]\n",
    "\n",
    "    npy = np.load(os.path.join(npypath, row['filename']+'.npy'))\n",
    "    img = Image.fromarray(npy)\n",
    "    cropbox = str2box(row['lungbox']) # crop the lung (segmentation) area\n",
    "    # a few lung is only segmented half, fix this problem\n",
    "    iou = _iou(nodbox,cropbox)\n",
    "    if iou==0:\n",
    "        cropbox_width = cropbox[2] - cropbox[0]\n",
    "        if nodbox[0]>cropbox[2]: # nodule at right lung, only left lung is segmented\n",
    "            newxmax = cropbox[2] + cropbox_width\n",
    "            cropbox[2] = max(newxmax,nodbox[2]+10)\n",
    "        else:\n",
    "            newxmin = cropbox[0] - cropbox_width\n",
    "            cropbox[0] = min(newxmin,nodbox[0]-10)\n",
    "            \n",
    "        assert(_iou(nodbox,cropbox)!=0),'Lung segmentation error.'\n",
    "        \n",
    "    if cropbox[2]-cropbox[0]<50 and cropbox[3]-cropbox[1]<50:\n",
    "        continue\n",
    "    \n",
    "    cropimg = img.crop(cropbox)\n",
    "    cropnpy = np.array(cropimg)\n",
    "    \n",
    "    # where the nodule at the cropped image\n",
    "    nodymin = nodbox[1] - cropbox[1]\n",
    "    nodymax = nodbox[3] - cropbox[1]\n",
    "    nodxmin = nodbox[0] - cropbox[0]\n",
    "    nodxmax = nodbox[2] - cropbox[0]\n",
    "    nodcropbox = [nodxmin, nodymin, nodxmax, nodymax]\n",
    "    assert np.min(nodcropbox)>=0, '{} has nodcropbox: {}'.format(row['filename'],nodcropbox)\n",
    "        \n",
    "    np.save(os.path.join(savebase.format(subset), row['filename']), cropnpy)\n",
    "    if ind%100==0 or 'LIDC-IDRI-0801-3-4' in row['filename']:\n",
    "        pilimg = Image.fromarray(cropnpy*255).convert(\"RGB\")\n",
    "        drawer = ImageDraw.Draw(pilimg);\n",
    "        drawer.rectangle([nodxmin - 10, nodymin - 10, nodxmax + 10, nodymax + 10], outline='red')\n",
    "        pilnpy = np.array(pilimg).astype('uint8')\n",
    "        imageio.imsave(os.path.join(saveimgbase.format(subset), row['filename'] + '.jpg'),pilnpy)\n",
    "    \n",
    "    outputs['filename'].append(row['filename'])\n",
    "    outputs['box'].append(nodcropbox)\n",
    "    if malign <= 3:\n",
    "        outputs['malignancy'].append(0)\n",
    "    else:\n",
    "        outputs['malignancy'].append(1)"
   ]
  },
  {
   "cell_type": "code",
   "execution_count": 7,
   "id": "abd58d3c",
   "metadata": {},
   "outputs": [],
   "source": [
    "df = pd.DataFrame(outputs).set_index('filename')\n",
    "df.to_csv(savebase.format('annos.csv'))"
   ]
  },
  {
   "cell_type": "code",
   "execution_count": null,
   "id": "b7b4d2ff",
   "metadata": {},
   "outputs": [],
   "source": []
  },
  {
   "cell_type": "code",
   "execution_count": null,
   "id": "9793209c",
   "metadata": {},
   "outputs": [],
   "source": []
  },
  {
   "cell_type": "code",
   "execution_count": null,
   "id": "a7d642e0",
   "metadata": {},
   "outputs": [],
   "source": []
  }
 ],
 "metadata": {
  "kernelspec": {
   "display_name": "Python (Pytorch)",
   "language": "python",
   "name": "pytorch"
  },
  "language_info": {
   "codemirror_mode": {
    "name": "ipython",
    "version": 3
   },
   "file_extension": ".py",
   "mimetype": "text/x-python",
   "name": "python",
   "nbconvert_exporter": "python",
   "pygments_lexer": "ipython3",
   "version": "3.8.12"
  }
 },
 "nbformat": 4,
 "nbformat_minor": 5
}
