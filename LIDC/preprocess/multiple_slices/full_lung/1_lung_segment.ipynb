{
 "cells": [
  {
   "cell_type": "raw",
   "id": "5273c1c6",
   "metadata": {},
   "source": [
    "for each image in /data/liumingzhou/CounterAlign_output/preprocess/multiple_slices/raw\n",
    "segment the lung, and save the results into /raw/xxx-xxx-lungseg.npy"
   ]
  },
  {
   "cell_type": "code",
   "execution_count": 1,
   "id": "75040730",
   "metadata": {},
   "outputs": [],
   "source": [
    "import os\n",
    "import numpy as np\n",
    "from glob import glob\n",
    "from tqdm import tqdm\n",
    "import pandas as pd\n",
    "from lungmask import mask as masker\n",
    "pids = os.listdir('/data/datasets/LIDC_IDRI/dicoms')\n",
    "from matplotlib import pyplot as plt"
   ]
  },
  {
   "cell_type": "code",
   "execution_count": 2,
   "id": "e863fe3f",
   "metadata": {},
   "outputs": [],
   "source": [
    "pady,padx = 15,5 \n",
    "todel = ['LIDC-IDRI-0634-0-0', 'LIDC-IDRI-0545-1-6'] # these two slices have no lung area\n",
    "\n",
    "base = '/data/liumingzhou/CounterAlign_output/preprocess/multiple_slices/raw'\n",
    "raw = pd.read_csv(base+'.csv').set_index('filename')\n",
    "pids = os.listdir('/data/datasets/LIDC_IDRI/dicoms')"
   ]
  },
  {
   "cell_type": "markdown",
   "id": "a02e61b1",
   "metadata": {},
   "source": [
    "#### segmentation with lungmask api"
   ]
  },
  {
   "cell_type": "code",
   "execution_count": 3,
   "id": "102574b4",
   "metadata": {},
   "outputs": [],
   "source": [
    "def backtoHU(image,inter=0,slop=1):\n",
    "    '''\n",
    "    0~1 np.array back to HU valued; intercept/slope from dicom info\n",
    "    '''\n",
    "    MIN_BOUND = -1000.0\n",
    "    MAX_BOUND = 400.0\n",
    "    image = image*(MAX_BOUND-MIN_BOUND) + MIN_BOUND\n",
    "    image = (image-inter)/slop\n",
    "    return image.astype(np.float64)"
   ]
  },
  {
   "cell_type": "raw",
   "id": "cf308c5d",
   "metadata": {},
   "source": [
    "for pid in tqdm(pids):\n",
    "    nids = list(set([file.split('-')[3] for file in os.listdir(base) if pid in file]))\n",
    "    for nid in nids:\n",
    "        temp = '{}-{}-*.npy'.format(pid,nid)\n",
    "        filenames = glob(os.path.join(base,temp))\n",
    "        filenames = [file for file in filenames if 'lungmask' not in file and 'npy' in file]\n",
    "        filenames.sort()\n",
    "        \n",
    "        if os.path.exists(filenames[0].split('.npy')[0]+'-lungmask.npy'):\n",
    "            continue\n",
    "        else:\n",
    "            images = [backtoHU(np.load(filename)) for filename in filenames] # we empirically find set inter/slope to 0,1 works well\n",
    "            masks = masker.apply(np.stack(images), batch_size=min(32,len(images)))  \n",
    "            for ind in range(len(images)):\n",
    "                mask = masks[ind]\n",
    "                savename = filenames[ind].split('.npy')[0]+'-lungmask.npy'\n",
    "                np.save(savename,mask)"
   ]
  },
  {
   "cell_type": "markdown",
   "id": "9d5f765e",
   "metadata": {},
   "source": [
    "#### check"
   ]
  },
  {
   "cell_type": "code",
   "execution_count": 4,
   "id": "80897659",
   "metadata": {},
   "outputs": [],
   "source": [
    "def segmask2boundbox(mask,pady,padx):\n",
    "    '''\n",
    "    we use numpy coordinate system; np.array[idy,idx]\n",
    "    '''\n",
    "    if len(mask.shape)==3:\n",
    "        mask = mask[0,:]\n",
    "    shape = mask.shape\n",
    "    ycoords, xcoords = np.where(mask!=0)\n",
    "    assert len(ycoords)>0\n",
    "    ymin, ymax, xmin, xmax = ycoords.min(), ycoords.max(), xcoords.min(), xcoords.max()\n",
    "\n",
    "    ymin = max(ymin-pady,0)\n",
    "    ymax = min(ymax+pady,shape[0])\n",
    "    xmin = max(xmin-padx,0)\n",
    "    xmax = min(xmax+padx,shape[1])\n",
    "    return [xmin,ymin,xmax,ymax]"
   ]
  },
  {
   "cell_type": "code",
   "execution_count": 5,
   "id": "c148291b",
   "metadata": {},
   "outputs": [],
   "source": [
    "# each image has a segmask\n",
    "for file in os.listdir(base):\n",
    "    if 'npy' in file and 'lungmask' not in file:\n",
    "        where_mask = os.path.join(base,file.split('.npy')[0]+'-lungmask.npy')\n",
    "        assert os.path.exists(where_mask), where"
   ]
  },
  {
   "cell_type": "code",
   "execution_count": 6,
   "id": "a5a21184",
   "metadata": {},
   "outputs": [],
   "source": [
    "# each segmask is valid\n",
    "errorfiles = list()\n",
    "for file in raw.index:\n",
    "    mask = np.load(os.path.join(base,file+'-lungmask.npy'))\n",
    "    try:\n",
    "        box = segmask2boundbox(mask,pady,padx)\n",
    "    except AssertionError:\n",
    "        if file not in todel:\n",
    "            errorfiles.append(file)\n",
    "            \n",
    "if len(errorfiles)>0:\n",
    "    print('Find {} images with invalid mask. Re-computing ...'.format(len(errorfiles)))\n",
    "    for file in tqdm(errorfiles):\n",
    "        img = np.load(os.path.join(base,file+'.npy'))\n",
    "        mask = masker.apply(backtoHU(img)[np.newaxis,:], batch_size=1)[0,:]   \n",
    "        savename = os.path.join(base,file+'-lungmask.npy')\n",
    "        np.save(savename,mask)"
   ]
  },
  {
   "cell_type": "markdown",
   "id": "19071d3a",
   "metadata": {},
   "source": [
    "#### save lung box to raw.csv"
   ]
  },
  {
   "cell_type": "code",
   "execution_count": 11,
   "id": "766e672c",
   "metadata": {},
   "outputs": [],
   "source": [
    "def filename2boundbox(filename):\n",
    "    '''\n",
    "    given lidc-idri-pid-nid-sliceid, return [xmin,ymin,xmax,ymax] as bounding box of the lung\n",
    "    '''\n",
    "    if filename in todel:\n",
    "        box = [0,0,0,0]\n",
    "    else:\n",
    "        mask = np.load(os.path.join(base,filename+'-lungmask.npy'))\n",
    "        box = segmask2boundbox(mask,pady,padx)\n",
    "    return box"
   ]
  },
  {
   "cell_type": "code",
   "execution_count": 12,
   "id": "7c304be1",
   "metadata": {},
   "outputs": [],
   "source": [
    "boxs = list(map(filename2boundbox,list(raw.index)))\n",
    "raw['lungbox'] = boxs\n",
    "raw.to_csv(base+'.csv')"
   ]
  },
  {
   "cell_type": "code",
   "execution_count": null,
   "id": "f0aba297",
   "metadata": {},
   "outputs": [],
   "source": []
  },
  {
   "cell_type": "markdown",
   "id": "ba165372",
   "metadata": {},
   "source": [
    "#### visualization"
   ]
  },
  {
   "cell_type": "raw",
   "id": "69879fed",
   "metadata": {},
   "source": [
    "base = '/data/liumingzhou/CounterAlign_output/preprocess/multiple_slices/raw'\n",
    "for ind,file in enumerate(os.listdir(base)):\n",
    "    if 'npy' in file and 'lungmask' not in file:\n",
    "        where_mask = os.path.join(base,file.split('.npy')[0]+'-lungmask.npy')\n",
    "        # read and visualize\n",
    "        if ind%1000==0:\n",
    "            img,mask = np.load(os.path.join(base,file)), np.load(where_mask)\n",
    "            xmin,ymin,xmax,ymax = segmask2boundbox(mask,pady=15,padx=5)\n",
    "            img[ymin,:] = np.max(img)\n",
    "            img[ymax,:] = np.max(img)\n",
    "            img[:,xmin] = np.max(img)\n",
    "            img[:,xmax] = np.max(img)\n",
    "            \n",
    "            plt.figure()\n",
    "            fig,ax = plt.subplots(1,2,figsize=(6,3))\n",
    "            ax[0].imshow(img)\n",
    "            ax[1].imshow(mask)\n",
    "            ax[0].axis('off')\n",
    "            ax[1].axis('off')            "
   ]
  },
  {
   "cell_type": "code",
   "execution_count": null,
   "id": "29dc8b0d",
   "metadata": {},
   "outputs": [],
   "source": []
  }
 ],
 "metadata": {
  "kernelspec": {
   "display_name": "Python (Pytorch)",
   "language": "python",
   "name": "pytorch"
  },
  "language_info": {
   "codemirror_mode": {
    "name": "ipython",
    "version": 3
   },
   "file_extension": ".py",
   "mimetype": "text/x-python",
   "name": "python",
   "nbconvert_exporter": "python",
   "pygments_lexer": "ipython3",
   "version": "3.8.12"
  }
 },
 "nbformat": 4,
 "nbformat_minor": 5
}
