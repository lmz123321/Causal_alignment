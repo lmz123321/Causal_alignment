{
 "cells": [
  {
   "cell_type": "raw",
   "id": "a9dbfb65-2056-414e-8d5d-e5c4c0c8d900",
   "metadata": {},
   "source": [
    "1.pick slices with nodule diameter>=7 and malignancy!=3 (from multi_slices/mindiam7_pad25jit20) and add them to multi_slices/mindiam7_pad25jit20_classification, in order to train the classifier model\n",
    "2.[update] add attributes label to the generated annos.csv"
   ]
  },
  {
   "cell_type": "code",
   "execution_count": 1,
   "id": "db83f8ae-7840-47c2-a342-fe15bc301f7b",
   "metadata": {
    "tags": []
   },
   "outputs": [],
   "source": [
    "import pandas as pd\n",
    "import shutil \n",
    "import numpy as np\n",
    "import os\n",
    "from tqdm import tqdm\n",
    "import matplotlib.pyplot as plt\n",
    "from copy import deepcopy\n",
    "\n",
    "import sys\n",
    "sys.path.append('../../preprocess/single_slice')\n",
    "from split import box2diameter\n",
    "sys.path.append('../')\n",
    "from jsonio import load"
   ]
  },
  {
   "cell_type": "code",
   "execution_count": 28,
   "id": "c323c7b5-6947-4b97-91b2-b3ad7abfe1fc",
   "metadata": {
    "tags": []
   },
   "outputs": [],
   "source": [
    "mindiam = 8\n",
    "source_base = '/data/liumingzhou/CounterAlign_output/preprocess/multiple_slices/mindiam7_fulllung'\n",
    "target_base = '/data/liumingzhou/CounterAlign_output/preprocess/multiple_slices/mindiam{}_fulllung_cls'.format(mindiam)\n",
    "os.makedirs(target_base,exist_ok=True)"
   ]
  },
  {
   "cell_type": "code",
   "execution_count": 29,
   "id": "a00faa84-8a23-4f08-a24a-ae103baca9c0",
   "metadata": {
    "tags": []
   },
   "outputs": [],
   "source": [
    "source_annos = pd.read_csv(os.path.join(source_base,'annos.csv')).set_index('filename')\n",
    "raw_annos = pd.read_csv(os.path.join(source_base.replace(source_base.split('/')[-1],''),'raw.csv')).set_index('filename')\n",
    "target_annos = deepcopy(source_annos[source_annos['box'].map(box2diameter)>=mindiam])"
   ]
  },
  {
   "cell_type": "markdown",
   "id": "ff43d0f2",
   "metadata": {},
   "source": [
    "#### add attributes to target_annos"
   ]
  },
  {
   "cell_type": "raw",
   "id": "8868d6fb",
   "metadata": {},
   "source": [
    "def attr_map(name):\n",
    "    '''\n",
    "    updated version: 1 for malignant-related, 0 for benign-related\n",
    "    '''\n",
    "    if name=='subtlety':\n",
    "        return dict(zip([1,2,3,4,5],[0,0,0,0,1]))\n",
    "    elif name=='calcification':\n",
    "        return dict(zip([1,2,3,4,5,6],[0]*5+[1]))\n",
    "    elif name=='margin':\n",
    "        return dict(zip([1,2,3,4,5],[1,1,1,0,0]))\n",
    "    elif name=='spiculation':\n",
    "        return dict(zip([1,2,3,4,5],[0,0,1,1,1]))\n",
    "    elif name=='sphericity':\n",
    "        return dict(zip([1,2,3,4,5],[1,1,1,0,0]))\n",
    "    elif name=='lobulation':\n",
    "        return dict(zip([1,2,3,4,5],[0,0,1,1,1]))\n",
    "    elif name=='texture':\n",
    "        return dict(zip([1,2,3,4,5],[1]*4+[0]))\n",
    "    else:\n",
    "        raise KeyError"
   ]
  },
  {
   "cell_type": "raw",
   "id": "2237cbee",
   "metadata": {},
   "source": [
    "indices = target_annos.index.map(lambda string:'-'.join(string.split('-')[:-1]))\n",
    "attrnames = ['subtlety','calcification','margin','spiculation','sphericity','lobulation','texture']"
   ]
  },
  {
   "cell_type": "raw",
   "id": "355d5ba6",
   "metadata": {},
   "source": [
    "for attrname in attrnames:\n",
    "    target_annos[attrname] = raw_annos.loc[indices][attrname].map(lambda key:attr_map(attrname)[key]).tolist()"
   ]
  },
  {
   "cell_type": "markdown",
   "id": "8808872e",
   "metadata": {},
   "source": [
    "#### check attribution balancing\n",
    "attributes annotations are generated in http://162.105.162.24:8889/notebooks/Projects/Counter_align/lidc/hierarchical_model/1_extract_attributes.ipynb\n",
    "not here any more"
   ]
  },
  {
   "cell_type": "raw",
   "id": "969eba1e",
   "metadata": {
    "scrolled": true
   },
   "source": [
    "for attrname in attrnames+['malignancy']:\n",
    "    plt.figure(figsize=(4,3))\n",
    "    plt.hist(target_annos[attrname],density=True)\n",
    "    plt.title(attrname)\n",
    "    plt.grid()"
   ]
  },
  {
   "cell_type": "markdown",
   "id": "9968c529-9c43-49c9-8384-57fca5ee05b2",
   "metadata": {},
   "source": [
    "#### pick those index with (1) jitid==0  (2) middle 1/3 slices"
   ]
  },
  {
   "cell_type": "code",
   "execution_count": 30,
   "id": "be49f68b-e7f5-4262-8aee-02c3a7b05804",
   "metadata": {
    "tags": []
   },
   "outputs": [],
   "source": [
    "record = dict()\n",
    "for index in target_annos.index:\n",
    "    _,_,pid,nid,sliceid = index.split('-')\n",
    "    \n",
    "    key = pid+'-'+nid\n",
    "    if key not in record.keys():\n",
    "        record[key] = list()\n",
    "    record[key].append(int(sliceid))"
   ]
  },
  {
   "cell_type": "code",
   "execution_count": 31,
   "id": "c98099c6-a4dd-4f25-847e-713df81b76f9",
   "metadata": {
    "tags": []
   },
   "outputs": [],
   "source": [
    "indices = list()\n",
    "for key in record.keys():\n",
    "    record[key].sort()\n",
    "    # pick the middle 1/3 slices\n",
    "    length = len(record[key])\n",
    "    for sliceid in record[key][length//2-length//6:length//2+length//6+1]:\n",
    "        index = 'LIDC-IDRI-{}-{}'.format(key,sliceid)\n",
    "        indices.append(index)"
   ]
  },
  {
   "cell_type": "code",
   "execution_count": null,
   "id": "be210b0c",
   "metadata": {},
   "outputs": [],
   "source": []
  },
  {
   "cell_type": "raw",
   "id": "c8fd8868",
   "metadata": {
    "tags": []
   },
   "source": [
    "# remove those that are hard to detect\n",
    "frauds = load('../../iclr23/code_test/frauds.json')\n",
    "target_annos.loc[frauds]['box'].map(box2diameter).value_counts()"
   ]
  },
  {
   "cell_type": "code",
   "execution_count": null,
   "id": "6c5534fe",
   "metadata": {},
   "outputs": [],
   "source": []
  },
  {
   "cell_type": "code",
   "execution_count": null,
   "id": "19869bdc-fe0f-4a51-9f34-3e1f37c32237",
   "metadata": {},
   "outputs": [],
   "source": []
  },
  {
   "cell_type": "code",
   "execution_count": 32,
   "id": "a9218a4a-582c-4113-8119-1a84c42db0db",
   "metadata": {
    "tags": []
   },
   "outputs": [
    {
     "data": {
      "text/html": [
       "<pre style=\"white-space:pre;overflow-x:auto;line-height:normal;font-family:Menlo,'DejaVu Sans Mono',consolas,'Courier New',monospace\">Ratio of malignant nodules: <span style=\"color: #008080; text-decoration-color: #008080; font-weight: bold\">0.648</span>\n",
       "</pre>\n"
      ],
      "text/plain": [
       "Ratio of malignant nodules: \u001b[1;36m0.648\u001b[0m\n"
      ]
     },
     "metadata": {},
     "output_type": "display_data"
    }
   ],
   "source": [
    "target_annos = target_annos.loc[indices]\n",
    "target_annos.to_csv(os.path.join(target_base,'annos.csv'))\n",
    "print('Ratio of malignant nodules: {:.3f}'.format(sum(target_annos['malignancy'].tolist())/len(target_annos['malignancy'].tolist())))"
   ]
  },
  {
   "cell_type": "code",
   "execution_count": null,
   "id": "dee1e989-20be-41d2-9bc0-2663360c43f3",
   "metadata": {},
   "outputs": [],
   "source": []
  },
  {
   "cell_type": "code",
   "execution_count": null,
   "id": "625afb9b-893a-4e6b-b8c3-979f1e45c8eb",
   "metadata": {},
   "outputs": [],
   "source": []
  },
  {
   "cell_type": "code",
   "execution_count": 33,
   "id": "22bc7b3e",
   "metadata": {
    "tags": []
   },
   "outputs": [
    {
     "name": "stderr",
     "output_type": "stream",
     "text": [
      "train: 100%|███████████████████████████████████████████████████████████████████████████████████████████████████████████████████████████████████████████████████████████████████████████████████| 8802/8802 [00:00<00:00, 16849.05it/s]\n",
      "val: 100%|█████████████████████████████████████████████████████████████████████████████████████████████████████████████████████████████████████████████████████████████████████████████████████| 2831/2831 [00:00<00:00, 17389.58it/s]\n",
      "test: 100%|████████████████████████████████████████████████████████████████████████████████████████████████████████████████████████████████████████████████████████████████████████████████████| 3215/3215 [00:00<00:00, 17292.72it/s]\n"
     ]
    }
   ],
   "source": [
    "for subset in ['train','val','test']:\n",
    "    os.makedirs(os.path.join(target_base,subset),exist_ok=True)\n",
    "    src_filenames = os.listdir(os.path.join(source_base,subset))\n",
    "    for file in tqdm(src_filenames,desc=subset):\n",
    "        nid = file.split('.')[0]\n",
    "        if nid in target_annos.index:\n",
    "            src = os.path.join(source_base,subset,file)\n",
    "            tag = os.path.join(target_base,subset,file)\n",
    "            shutil.copy(src,tag)"
   ]
  },
  {
   "cell_type": "code",
   "execution_count": 34,
   "id": "d429db64-06c2-4104-a279-ae5c72d4966b",
   "metadata": {},
   "outputs": [
    {
     "data": {
      "text/html": [
       "<pre style=\"white-space:pre;overflow-x:auto;line-height:normal;font-family:Menlo,'DejaVu Sans Mono',consolas,'Courier New',monospace\">number train: <span style=\"color: #008080; text-decoration-color: #008080; font-weight: bold\">2008</span>, val: <span style=\"color: #008080; text-decoration-color: #008080; font-weight: bold\">653</span>\n",
       "</pre>\n"
      ],
      "text/plain": [
       "number train: \u001b[1;36m2008\u001b[0m, val: \u001b[1;36m653\u001b[0m\n"
      ]
     },
     "metadata": {},
     "output_type": "display_data"
    }
   ],
   "source": [
    "print('number train: {}, val: {}'.format(len(os.listdir(os.path.join(target_base,'train'))),\n",
    "                                       len(os.listdir(os.path.join(target_base,'val')))))"
   ]
  },
  {
   "cell_type": "code",
   "execution_count": null,
   "id": "3dab2245-ebae-405b-bce3-b33a2b97a471",
   "metadata": {
    "tags": []
   },
   "outputs": [],
   "source": []
  },
  {
   "cell_type": "code",
   "execution_count": null,
   "id": "9d4fb274-f717-4909-b6e7-d8b0717091f2",
   "metadata": {},
   "outputs": [],
   "source": []
  },
  {
   "cell_type": "code",
   "execution_count": null,
   "id": "51ca8b05-a757-4132-ac1c-1a64a122ac73",
   "metadata": {
    "tags": []
   },
   "outputs": [],
   "source": []
  },
  {
   "cell_type": "code",
   "execution_count": null,
   "id": "cf768f14-e0ac-4390-a736-2561bb220f20",
   "metadata": {},
   "outputs": [],
   "source": []
  }
 ],
 "metadata": {
  "kernelspec": {
   "display_name": "torch1.13",
   "language": "python",
   "name": "torch1.13"
  },
  "language_info": {
   "codemirror_mode": {
    "name": "ipython",
    "version": 3
   },
   "file_extension": ".py",
   "mimetype": "text/x-python",
   "name": "python",
   "nbconvert_exporter": "python",
   "pygments_lexer": "ipython3",
   "version": "3.9.16"
  }
 },
 "nbformat": 4,
 "nbformat_minor": 5
}
