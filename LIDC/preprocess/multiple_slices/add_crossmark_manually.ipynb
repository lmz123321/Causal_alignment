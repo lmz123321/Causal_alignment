{
 "cells": [
  {
   "cell_type": "code",
   "execution_count": 1,
   "id": "3f79ce84",
   "metadata": {},
   "outputs": [],
   "source": [
    "# add +/- randomly on AE train/val/test images\n",
    "# from mindiam7_pad25_jit20 generate mindiam7_pad25_jit20_trainonlybias\n",
    "\n",
    "# note that the index system for numpy and PIL.Image are different\n",
    "# npy[row,col]\n",
    "# PIL.Image[col,row]"
   ]
  },
  {
   "cell_type": "code",
   "execution_count": 8,
   "id": "d386a2d0",
   "metadata": {
    "tags": []
   },
   "outputs": [],
   "source": [
    "import numpy as np\n",
    "from PIL import Image, ImageDraw, ImageFont\n",
    "import os\n",
    "from matplotlib import pyplot as plt\n",
    "import random\n",
    "import pandas as pd\n",
    "from tqdm.notebook import tqdm\n",
    "\n",
    "import sys\n",
    "sys.path.append('../../causal_align/utils/')\n",
    "from myutil import str2box"
   ]
  },
  {
   "cell_type": "markdown",
   "id": "f39c4510",
   "metadata": {},
   "source": [
    "#### helper functions"
   ]
  },
  {
   "cell_type": "code",
   "execution_count": 9,
   "id": "77ec7ac1",
   "metadata": {
    "tags": []
   },
   "outputs": [],
   "source": [
    "def draw(img,box):\n",
    "    ymin,xmin,ymax,xmax = box\n",
    "    img[xmin,ymin]=1\n",
    "    img[xmax,ymax]=1\n",
    "    img[xmax,ymin]=1\n",
    "    img[xmin,ymax]=1\n",
    "    \n",
    "def get_iou(boxA, boxB):\n",
    "    '''\n",
    "    IoU of two boxes\n",
    "    '''\n",
    "    boxA = [int(x) for x in boxA]\n",
    "    boxB = [int(x) for x in boxB]\n",
    "\n",
    "    xA = max(boxA[0], boxB[0])\n",
    "    yA = max(boxA[1], boxB[1])\n",
    "    xB = min(boxA[2], boxB[2])\n",
    "    yB = min(boxA[3], boxB[3])\n",
    "\n",
    "    interArea = max(0, xB - xA + 1) * max(0, yB - yA + 1)\n",
    "\n",
    "    boxAArea = (boxA[2] - boxA[0] + 1) * (boxA[3] - boxA[1] + 1)\n",
    "    boxBArea = (boxB[2] - boxB[0] + 1) * (boxB[3] - boxB[1] + 1)\n",
    "\n",
    "    iou = interArea / float(boxAArea + boxBArea - interArea)\n",
    "\n",
    "    return iou\n",
    "\n",
    "def cross_mark(npy,coord,symbol,size=4,thickness=1,fill_value=1):\n",
    "    '''\n",
    "    add a +/- mark at coord; size controls the size of the mark\n",
    "    '''\n",
    "    x,y = coord\n",
    "    npy[x-thickness+1:x+thickness,y-size+1:y+size] = fill_value\n",
    "    if symbol == '+':\n",
    "        npy[x-size+1:x+size,y-thickness+1:y+thickness] = fill_value"
   ]
  },
  {
   "cell_type": "markdown",
   "id": "78717a54-d190-4a4e-9735-6d12d0c88ad8",
   "metadata": {},
   "source": [
    "#### At random corners (avoid overlap with the nodule)"
   ]
  },
  {
   "cell_type": "code",
   "execution_count": 10,
   "id": "043990fd-9625-466c-aaf6-0a1d50ed39c6",
   "metadata": {
    "tags": []
   },
   "outputs": [],
   "source": [
    "source = '/data/liumingzhou/CounterAlign_output/preprocess/multiple_slices/mindiam7_pad25_jit20'\n",
    "target = '/data/liumingzhou/CounterAlign_output/preprocess/multiple_slices/mindiam7_pad25_jit20_trainonlybias'"
   ]
  },
  {
   "cell_type": "code",
   "execution_count": 11,
   "id": "d7e96382-699a-4c7e-8296-554faf0cef09",
   "metadata": {
    "tags": []
   },
   "outputs": [],
   "source": [
    "folders = ['train','val','test']\n",
    "anno = pd.read_csv(os.path.join(source,'annos.csv')).set_index('filename')\n",
    "\n",
    "os.makedirs(target,exist_ok=True)\n",
    "anno.to_csv(os.path.join(target,'annos.csv'))"
   ]
  },
  {
   "cell_type": "code",
   "execution_count": 12,
   "id": "351fa13e-26dc-4005-8883-d9b948f7bf9b",
   "metadata": {
    "tags": []
   },
   "outputs": [
    {
     "data": {
      "application/vnd.jupyter.widget-view+json": {
       "model_id": "2932728df61b48b199ffd05b97247458",
       "version_major": 2,
       "version_minor": 0
      },
      "text/plain": [
       "  0%|          | 0/17442 [00:00<?, ?it/s]"
      ]
     },
     "metadata": {},
     "output_type": "display_data"
    },
    {
     "data": {
      "application/vnd.jupyter.widget-view+json": {
       "model_id": "492f034c91ab49f78f663e23511c54d2",
       "version_major": 2,
       "version_minor": 0
      },
      "text/plain": [
       "  0%|          | 0/5646 [00:00<?, ?it/s]"
      ]
     },
     "metadata": {},
     "output_type": "display_data"
    },
    {
     "data": {
      "application/vnd.jupyter.widget-view+json": {
       "model_id": "608ecd4e23c64de28a3831c807d70f40",
       "version_major": 2,
       "version_minor": 0
      },
      "text/plain": [
       "  0%|          | 0/6380 [00:00<?, ?it/s]"
      ]
     },
     "metadata": {},
     "output_type": "display_data"
    }
   ],
   "source": [
    "pad = 5\n",
    "size = 5\n",
    "thickness = 2 \n",
    "\n",
    "for folder in folders:\n",
    "    filenames = os.listdir(os.path.join(source,folder))\n",
    "    os.makedirs(os.path.join(target,folder),exist_ok=True)\n",
    "    for filename in tqdm(filenames):\n",
    "        npy = np.load(os.path.join(source,folder,filename))\n",
    "        malign = anno.loc[filename.split('.')[0]]['malignancy']\n",
    "        ymin,xmin,ymax,xmax = str2box(anno.loc[filename.split('.')[0]]['box'])\n",
    "        nod_box = [max(0,ymin-pad),max(0,xmin-pad),min(ymax+pad,npy.shape[1]-1),min(xmax+pad,npy.shape[0]-1)]\n",
    "        \n",
    "        # set the symbol according to label\n",
    "        if folder=='train':\n",
    "            symbol = '+' if malign==1 else '-'\n",
    "        else:\n",
    "            symbol = '-' if malign==1 else '+'\n",
    "        \n",
    "        # choose the best corner\n",
    "        positions = [(10,10), (10,npy.shape[0]-10), (npy.shape[1]-10,10),(npy.shape[1]-10,npy.shape[0]-10)]\n",
    "        densities = [npy[pos[1],pos[0]] for pos in positions]\n",
    "        \n",
    "        for position,density in zip(positions,densities):\n",
    "            sym_x, sym_y = position[1], position[0]\n",
    "            sym_box = [sym_y-size+1,sym_x-size+1,sym_y+size,sym_x+size]\n",
    "            iou = get_iou(sym_box,nod_box)\n",
    "            if iou == 0:\n",
    "                break\n",
    "        assert iou==0, 'Fail to find property way to add the +/- symbol.'\n",
    "        \n",
    "        cross_mark(npy,(sym_x,sym_y),thickness=thickness,symbol=symbol,size=size)\n",
    "        np.save(os.path.join(target,folder,filename),npy)\n",
    "        \n",
    "        #plt.figure(figsize=(3,3))\n",
    "        #plt.imshow(npy,cmap='gray')\n",
    "        #plt.title(str(malign))\n",
    "        \n",
    "        #plt.axvline(ymin,color='red')\n",
    "        #plt.axvline(ymax,color='red')\n",
    "        #plt.axhline(xmin,color='red')\n",
    "        #plt.axhline(xmax,color='red')"
   ]
  },
  {
   "cell_type": "code",
   "execution_count": null,
   "id": "413ab3c2-0482-497e-8fd3-c328ff3599e2",
   "metadata": {
    "tags": []
   },
   "outputs": [],
   "source": []
  },
  {
   "cell_type": "code",
   "execution_count": null,
   "id": "5626e5e8-e77d-4e94-8f60-b81e32b123a2",
   "metadata": {
    "tags": []
   },
   "outputs": [],
   "source": []
  },
  {
   "cell_type": "code",
   "execution_count": null,
   "id": "3e5967d2-58a9-429e-ab84-57d7cf559277",
   "metadata": {},
   "outputs": [],
   "source": []
  },
  {
   "cell_type": "code",
   "execution_count": null,
   "id": "b2c9aa38-c28c-4044-87d4-65a3a0004e7a",
   "metadata": {},
   "outputs": [],
   "source": []
  },
  {
   "cell_type": "markdown",
   "id": "113f9634",
   "metadata": {},
   "source": [
    "#### At fixed corners"
   ]
  },
  {
   "cell_type": "raw",
   "id": "09a80ff0",
   "metadata": {},
   "source": [
    "source = '/data/liumingzhou/CounterAlign_output/preprocess/multiple_slices/mindiam7_pad25_jit20'\n",
    "target = '/data/liumingzhou/CounterAlign_output/preprocess/multiple_slices/mindiam7_pad25_jit20_trainonlybias'"
   ]
  },
  {
   "cell_type": "raw",
   "id": "7ddef836",
   "metadata": {},
   "source": [
    "folders = ['train','val','test']"
   ]
  },
  {
   "cell_type": "raw",
   "id": "f5401ac4",
   "metadata": {},
   "source": [
    "for folder in folders:\n",
    "    filenames = os.listdir(os.path.join(source,folder))\n",
    "    for filename in filenames:\n",
    "        npy = np.load(os.path.join(source,folder,filename))\n",
    "        img = Image.fromarray(npy)\n",
    "        symbol = random.choice(['+','-'])\n",
    "        drawer = ImageDraw.Draw(img)\n",
    "        \n",
    "        # choose the darkest corner\n",
    "        positions = [(5,0), (5,img.size[1]-10), (img.size[0]-10,0),(img.size[0]-10,img.size[1]-10)]\n",
    "        densities = [npy[pos[1]+5,pos[0]+2] for pos in positions]\n",
    "        position = positions[np.argmin(densities)]\n",
    "        \n",
    "        #for p in positions:\n",
    "        #    drawer.text(p, symbol, align=\"center\")\n",
    "        drawer.text(position, symbol, align=\"center\")\n",
    "        biasnpy = np.array(img)\n",
    "        np.save(os.path.join(target,folder,filename),biasnpy)\n",
    "        #plt.figure(figsize=(3,3))\n",
    "        #plt.imshow(biasnpy,cmap='gray')\n",
    "        #plt.title(filename)\n",
    "        #for pos in positions:\n",
    "        #    plt.axvline(pos[0]+2,color='red')\n",
    "        #    plt.axhline(pos[1]+5,color='red')"
   ]
  },
  {
   "cell_type": "markdown",
   "id": "11e177ef",
   "metadata": {},
   "source": [
    "#### Random positions\n",
    "We use coordinate system of numpy, with array[x,y]"
   ]
  },
  {
   "cell_type": "raw",
   "id": "f3023995",
   "metadata": {},
   "source": [
    "source = '/data/liumingzhou/CounterAlign_output/preprocess/multiple_slices/mindiam7_pad25_jit20'\n",
    "target = '/data/liumingzhou/CounterAlign_output/preprocess/multiple_slices/mindiam7_pad25_jit20_randplaced_crossmark'"
   ]
  },
  {
   "cell_type": "raw",
   "id": "13775f82",
   "metadata": {},
   "source": [
    "folders = ['train','val','test']"
   ]
  },
  {
   "cell_type": "raw",
   "id": "9681ac76",
   "metadata": {},
   "source": [
    "anno = pd.read_csv(os.path.join(source,'annos.csv')).set_index('filename')"
   ]
  },
  {
   "cell_type": "raw",
   "id": "175615c6",
   "metadata": {},
   "source": [
    "os.makedirs(target,exist_ok=True)\n",
    "anno.to_csv(os.path.join(target,'annos.csv'))"
   ]
  },
  {
   "cell_type": "raw",
   "id": "ae11ea88",
   "metadata": {},
   "source": [
    "size = 4\n",
    "pad = 5\n",
    "num_fail = 0\n",
    "\n",
    "for folder in folders:\n",
    "    os.makedirs(os.path.join(target,folder),exist_ok=True)\n",
    "    filenames = os.listdir(os.path.join(source,folder))\n",
    "    for filename in tqdm(filenames,desc=folder):\n",
    "        npy = np.load(os.path.join(source,folder,filename))\n",
    "        malign = anno.loc[filename.split('.')[0]]['malignancy']\n",
    "        ymin,xmin,ymax,xmax = str2box(anno.loc[filename.split('.')[0]]['box'])\n",
    "        nodbox = [max(0,ymin-pad),max(0,xmin-pad),min(ymax+pad,npy.shape[1]-1),min(xmax+pad,npy.shape[0]-1)]\n",
    "        \n",
    "        symbol = '+' if malign else '-'\n",
    "        flag = False\n",
    "        iters = 0\n",
    "        while not flag:\n",
    "            x,y = np.random.randint(low=size,high=npy.shape[0]-size),np.random.randint(low=size,high=npy.shape[1]-size)\n",
    "            cross_mark_box = [y-size+1,x-size+1,y+size,x+size]\n",
    "            iou = get_iou(cross_mark_box,nodbox)\n",
    "            flag = npy[x,y]<0.2 and iou==0\n",
    "            iters += 1\n",
    "            if iters>100:\n",
    "                num_fail += 1\n",
    "                break\n",
    "        if iters>100:\n",
    "            continue\n",
    "            \n",
    "        cross_mark(npy,(x,y),symbol=symbol,size=size)\n",
    "        np.save(os.path.join(target,folder,filename),npy)\n",
    "        \n",
    "        # debuging\n",
    "        #draw(npy,nodbox)\n",
    "        #draw(npy,cross_mark_box)\n",
    "        #plt.figure(figsize=(4,4))\n",
    "        #plt.imshow(npy,cmap='gray')\n",
    "        #plt.title('iou: {:.5f}'.format(iou))"
   ]
  },
  {
   "cell_type": "code",
   "execution_count": null,
   "id": "0aa5ba4c",
   "metadata": {},
   "outputs": [],
   "source": []
  },
  {
   "cell_type": "code",
   "execution_count": null,
   "id": "c13c2cbe",
   "metadata": {},
   "outputs": [],
   "source": []
  },
  {
   "cell_type": "raw",
   "id": "1486f919",
   "metadata": {},
   "source": [
    " for file in os.listdir(os.path.join(target,'train'))[:10]:\n",
    "    npy = np.load(os.path.join(target,'train',file))\n",
    "    plt.figure()\n",
    "    plt.imshow(npy,cmap='gray')"
   ]
  },
  {
   "cell_type": "code",
   "execution_count": null,
   "id": "fd934c22",
   "metadata": {},
   "outputs": [],
   "source": []
  },
  {
   "cell_type": "markdown",
   "id": "fb911fe6",
   "metadata": {},
   "source": [
    "#### Random position for single slice"
   ]
  },
  {
   "cell_type": "raw",
   "id": "115ea9bf-3d20-467e-a3ce-f61cfb06d341",
   "metadata": {},
   "source": [
    "source = '/data/liumingzhou/CounterAlign_output/preprocess/single_slice/mindiam7_pad25_jit20_nonebias'\n",
    "target = '/data/liumingzhou/CounterAlign_output/preprocess/single_slice/mindiam7_pad25_jit20_randplaced_crossmark'"
   ]
  },
  {
   "cell_type": "raw",
   "id": "f3ee18c3-93c6-4572-82ae-5267a782f843",
   "metadata": {},
   "source": [
    "folders = ['train','val','test']"
   ]
  },
  {
   "cell_type": "raw",
   "id": "3de004ed-3f6b-4de0-9946-f15b36bfc712",
   "metadata": {},
   "source": [
    "anno = pd.read_csv(os.path.join(source,'annos.csv')).set_index('filename')"
   ]
  },
  {
   "cell_type": "raw",
   "id": "3cef4c1c-471d-48b4-8872-655b72cdc433",
   "metadata": {},
   "source": [
    "os.makedirs(target,exist_ok=True)\n",
    "anno.to_csv(os.path.join(target,'annos.csv'))"
   ]
  },
  {
   "cell_type": "raw",
   "id": "78d2a437-5935-4e70-a494-0fa0c1375457",
   "metadata": {},
   "source": [
    "size = 4\n",
    "pad = 5\n",
    "num_fail = 0\n",
    "\n",
    "for folder in folders:\n",
    "    os.makedirs(os.path.join(target,folder),exist_ok=True)\n",
    "    filenames = os.listdir(os.path.join(source,folder))\n",
    "    for filename in tqdm(filenames,desc=folder):\n",
    "        npy = np.load(os.path.join(source,folder,filename))\n",
    "        malign = anno.loc[filename.split('.')[0]]['malignancy']\n",
    "        ymin,xmin,ymax,xmax = str2box(anno.loc[filename.split('.')[0]]['box'])\n",
    "        nodbox = [max(0,ymin-pad),max(0,xmin-pad),min(ymax+pad,npy.shape[1]-1),min(xmax+pad,npy.shape[0]-1)]\n",
    "        \n",
    "        symbol = '+' if malign else '-'\n",
    "        flag = False\n",
    "        iters = 0\n",
    "        while not flag:\n",
    "            x,y = np.random.randint(low=size,high=npy.shape[0]-size),np.random.randint(low=size,high=npy.shape[1]-size)\n",
    "            cross_mark_box = [y-size+1,x-size+1,y+size,x+size]\n",
    "            iou = get_iou(cross_mark_box,nodbox)\n",
    "            flag = npy[x,y]<0.2 and iou==0\n",
    "            iters += 1\n",
    "            if iters>100:\n",
    "                num_fail += 1\n",
    "                break\n",
    "        if iters>100:\n",
    "            continue\n",
    "            \n",
    "        cross_mark(npy,(x,y),symbol=symbol,size=size)\n",
    "        np.save(os.path.join(target,folder,filename),npy)\n",
    "        \n",
    "        # debuging\n",
    "        #draw(npy,nodbox)\n",
    "        #draw(npy,cross_mark_box)\n",
    "        #plt.figure(figsize=(4,4))\n",
    "        #plt.imshow(npy,cmap='gray')\n",
    "        #plt.title('iou: {:.5f}'.format(iou))"
   ]
  },
  {
   "cell_type": "code",
   "execution_count": null,
   "id": "3bb78237",
   "metadata": {},
   "outputs": [],
   "source": []
  }
 ],
 "metadata": {
  "kernelspec": {
   "display_name": "torch1.13",
   "language": "python",
   "name": "torch1.13"
  },
  "language_info": {
   "codemirror_mode": {
    "name": "ipython",
    "version": 3
   },
   "file_extension": ".py",
   "mimetype": "text/x-python",
   "name": "python",
   "nbconvert_exporter": "python",
   "pygments_lexer": "ipython3",
   "version": "3.9.16"
  }
 },
 "nbformat": 4,
 "nbformat_minor": 5
}
